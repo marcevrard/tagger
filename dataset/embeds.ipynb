{
 "cells": [
  {
   "cell_type": "code",
   "execution_count": 29,
   "metadata": {
    "collapsed": true
   },
   "outputs": [],
   "source": [
    "import os\n",
    "import codecs\n",
    "import numpy as np"
   ]
  },
  {
   "cell_type": "code",
   "execution_count": 2,
   "metadata": {
    "collapsed": true
   },
   "outputs": [],
   "source": [
    "PATH = 'sskip.100.vectors'"
   ]
  },
  {
   "cell_type": "code",
   "execution_count": 18,
   "metadata": {},
   "outputs": [],
   "source": [
    "embeds = []\n",
    "id2word = []\n",
    "with open(PATH) as f:\n",
    "    for idx, l in enumerate(f):\n",
    "        if idx == 0:\n",
    "            voc_size, emb_dim = l.rstrip().split()\n",
    "        else:\n",
    "            word, *vec = l.rstrip().split()\n",
    "            embeds.append([float(val) for val in vec])\n",
    "            assert len(embeds[-1]) == int(emb_dim)\n",
    "            id2word.append(word)\n",
    "            \n",
    "    assert len(embeds) == len(id2word) == int(voc_size)"
   ]
  },
  {
   "cell_type": "code",
   "execution_count": 20,
   "metadata": {},
   "outputs": [
    {
     "name": "stdout",
     "output_type": "stream",
     "text": [
      "[0.004003, 0.004419, -0.00383, -0.003278, 0.001367, 0.003021, 0.000941, 0.000211, -0.003604, 0.002218, -0.004356, 0.00125, -0.000751, -0.000957, -0.003316, -0.001882, 0.002579, 0.003025, 0.002969, 0.001597, 0.001545, -0.003803, -0.004096, 0.00497, 0.003801, 0.00309, -0.000604, 0.004016, -0.000495, 0.000735, -0.000149, -0.002983, 0.001312, -0.001337, -0.003825, 0.004754, 0.004379, -0.001095, -0.000226, 0.000509, -0.003638, -0.004007, 0.004555, 6.3e-05, -0.002582, -0.003042, -0.003076, 0.001697, 0.000201, 0.001331, -0.004214, -0.003808, -0.00013, 0.001144, 0.00255, -0.00317, 0.00408, 0.000927, 0.00112, -0.000608, 0.002986, -0.002288, -0.002097, 0.002158, -0.000753, 0.001031, 0.001805, -0.004089, -0.001983, 0.002914, 0.004232, 0.003932, -0.003047, -0.002108, -0.000909, 0.002001, -0.003788, 0.002998, 0.002788, -0.001599, -0.001552, -0.002238, 0.004229, 0.003912, -0.00118, 0.004215, 0.00482, 0.001815, 0.004983, -0.003111, -0.001532, -0.002107, -0.002907, 0.002815, 0.001579, 0.000425, -0.002194, 0.001524, 0.003059, 0.000194]\n"
     ]
    }
   ],
   "source": [
    "print(embeds[0])"
   ]
  },
  {
   "cell_type": "code",
   "execution_count": 26,
   "metadata": {},
   "outputs": [],
   "source": [
    "pretrained = set([line.rstrip().split()[0].strip()\n",
    "                  for line in codecs.open(PATH, 'r', 'utf-8')\n",
    "                  if len(PATH) > 0])"
   ]
  },
  {
   "cell_type": "code",
   "execution_count": 32,
   "metadata": {},
   "outputs": [],
   "source": [
    "embeds_arr = np.array(embeds, dtype=np.float32)"
   ]
  },
  {
   "cell_type": "code",
   "execution_count": 34,
   "metadata": {},
   "outputs": [
    {
     "data": {
      "text/plain": [
       "(243003, 100)"
      ]
     },
     "execution_count": 34,
     "metadata": {},
     "output_type": "execute_result"
    }
   ],
   "source": [
    "embeds_arr.shape"
   ]
  },
  {
   "cell_type": "code",
   "execution_count": 35,
   "metadata": {},
   "outputs": [
    {
     "data": {
      "text/plain": [
       "0.36554322"
      ]
     },
     "execution_count": 35,
     "metadata": {},
     "output_type": "execute_result"
    }
   ],
   "source": [
    "np.std(embeds_arr)"
   ]
  },
  {
   "cell_type": "code",
   "execution_count": null,
   "metadata": {
    "collapsed": true
   },
   "outputs": [],
   "source": []
  }
 ],
 "metadata": {
  "kernelspec": {
   "display_name": "Python (tf1)",
   "language": "python",
   "name": "tf1"
  },
  "language_info": {
   "codemirror_mode": {
    "name": "ipython",
    "version": 3
   },
   "file_extension": ".py",
   "mimetype": "text/x-python",
   "name": "python",
   "nbconvert_exporter": "python",
   "pygments_lexer": "ipython3",
   "version": "3.5.2"
  }
 },
 "nbformat": 4,
 "nbformat_minor": 2
}
